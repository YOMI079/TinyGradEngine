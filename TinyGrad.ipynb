{
  "nbformat": 4,
  "nbformat_minor": 0,
  "metadata": {
    "colab": {
      "provenance": [],
      "collapsed_sections": [
        "VMdtpuLPaF_n",
        "WgpeKtRtachf",
        "5Oxn-SCO5F0O"
      ]
    },
    "kernelspec": {
      "name": "python3",
      "display_name": "Python 3"
    },
    "language_info": {
      "name": "python"
    }
  },
  "cells": [
    {
      "cell_type": "markdown",
      "source": [
        "# Backpropagation Example1"
      ],
      "metadata": {
        "id": "VMdtpuLPaF_n"
      }
    },
    {
      "cell_type": "code",
      "execution_count": 1,
      "metadata": {
        "id": "baLASdN0My-I"
      },
      "outputs": [],
      "source": [
        "import math\n",
        "import numpy as np\n",
        "import matplotlib.pyplot as plt\n",
        "%matplotlib inline"
      ]
    },
    {
      "cell_type": "code",
      "source": [
        "class Value:\n",
        "  def __init__(self,data , _children = () , _op = '' , lable = ''):\n",
        "    self.data = data\n",
        "    self.grad = 0.0\n",
        "    self._backward = lambda:None\n",
        "    self._prev = set(_children)\n",
        "    self._op = _op\n",
        "    self.lable = lable\n",
        "\n",
        "  def __repr__(self):\n",
        "    return f\"Value(data = {self.data})\"\n",
        "\n",
        "  def __add__(self , other):\n",
        "    other = other if isinstance(other , Value) else Value(other)\n",
        "    out = Value(self.data + other.data , (self , other) , '+')\n",
        "    def _backward():\n",
        "      self.grad += 1.0*out.grad\n",
        "      other.grad += 1.0*out.grad\n",
        "    out._backward = _backward\n",
        "    return out\n",
        "\n",
        "  def __mul__(self , other):\n",
        "    other = other if isinstance(other , Value) else Value(other)\n",
        "    out = Value(self.data * other.data , (self , other) , '*')\n",
        "    def _backward():\n",
        "      self.grad += other.data*out.grad\n",
        "      other.grad += self.data*out.grad\n",
        "    out._backward = _backward\n",
        "    return out\n",
        "  def __rmul__(self , other):\n",
        "    return self*other\n",
        "\n",
        "  def __neg__(self):\n",
        "    return self * -1\n",
        "\n",
        "  def __sub__(self , other):\n",
        "    return self + (-other)\n",
        "\n",
        "  def __truediv__(self , other):\n",
        "    return self * other**-1\n",
        "\n",
        "  def __pow__(self , other):\n",
        "    assert isinstance(other , (int , float)) , 'only support int or float'\n",
        "    out = Value(self.data ** other, (self ,) , f'**{other}')\n",
        "\n",
        "    def _backward():\n",
        "      self.grad += (other * self.data**(other - 1))*out.grad\n",
        "    out._backward = _backward\n",
        "    return out\n",
        "\n",
        "  def exp(self):\n",
        "    x = self.data\n",
        "    out = Value(math.exp(x) , (self , ) , 'exp')\n",
        "    def _backward():\n",
        "      self.grad += out.data*out.grad\n",
        "    out._backward = _backward\n",
        "    return out\n",
        "\n",
        "  def tanh(self):\n",
        "    n = self.data\n",
        "    t = (math.exp(2*n)-1)/(math.exp(2*n) +1)\n",
        "    out = Value(t , (self , ) , 'tanh')\n",
        "    def _backward():\n",
        "      self.grad += (1 - t**2)*out.grad\n",
        "    out._backward = _backward\n",
        "    return out\n",
        "\n",
        "  def backward(self):\n",
        "    topo = []\n",
        "    visited = set()\n",
        "    def build_topo(v):\n",
        "      if v not in visited:\n",
        "        visited.add(v)\n",
        "        for child in v._prev:\n",
        "          build_topo(child)\n",
        "        topo.append(v)\n",
        "    build_topo(self)\n",
        "    self.grad = 1.0\n",
        "    for node in reversed(topo):\n",
        "      node._backward()"
      ],
      "metadata": {
        "id": "deLlYxDWu6JL"
      },
      "execution_count": 2,
      "outputs": []
    },
    {
      "cell_type": "code",
      "source": [
        "from graphviz import Digraph\n",
        "def trace(root):\n",
        "  nodes, edges = set(), set()\n",
        "  def build(v):\n",
        "    # Check if v is a list and iterate through its elements\n",
        "    if isinstance(v, list):\n",
        "      for item in v:\n",
        "        build(item)  # Recursively call build on each item\n",
        "      return\n",
        "    if v not in nodes:\n",
        "      nodes.add(v)\n",
        "      for child in v._prev:\n",
        "        edges.add((child, v))\n",
        "        build(child)\n",
        "  build(root)\n",
        "  return nodes, edges\n",
        "\n",
        "def draw_dot(root):\n",
        "  dot = Digraph(format='svg', graph_attr={'rankdir': 'LR'})\n",
        "\n",
        "  # Handle the case where root is a list\n",
        "  if isinstance(root, list):\n",
        "    # If root is a list, recursively call draw_dot on its elements\n",
        "    for item in root:\n",
        "      nodes, edges = trace(item)\n",
        "      for n in nodes:\n",
        "        uid = str(id(n))\n",
        "        dot.node(name=uid, label=\"{ %s | data %.4f | grad %.4f }\" % (n.lable, n.data, n.grad), shape='record')\n",
        "        if n._op:\n",
        "          dot.node(name=uid + n._op, label=n._op)\n",
        "          dot.edge(uid + n._op, uid)\n",
        "      for n1, n2 in edges:\n",
        "        dot.edge(str(id(n1)), str(id(n2)) + n2._op)\n",
        "    return dot\n",
        "\n",
        "  nodes, edges = trace(root)\n",
        "  for n in nodes:\n",
        "    uid = str(id(n))\n",
        "    dot.node(name=uid, label=\"{ %s | data %.4f | grad %.4f }\" % (n.lable, n.data, n.grad), shape='record')\n",
        "    if n._op:\n",
        "      dot.node(name=uid + n._op, label=n._op)\n",
        "      dot.edge(uid + n._op, uid)\n",
        "  for n1, n2 in edges:\n",
        "    dot.edge(str(id(n1)), str(id(n2)) + n2._op)\n",
        "  return dot"
      ],
      "metadata": {
        "id": "UKu0e4srNqG-"
      },
      "execution_count": 3,
      "outputs": []
    },
    {
      "cell_type": "markdown",
      "source": [
        "#Backpropagation example"
      ],
      "metadata": {
        "id": "WgpeKtRtachf"
      }
    },
    {
      "cell_type": "code",
      "source": [
        "# input x1 , x2 , x3\n",
        "x1 = Value(2.0 , lable = 'x1')\n",
        "x2 = Value(0.0 , lable = 'x2')\n",
        "x3 = Value(-3.0 , lable = 'x3')\n",
        "# weight w1 , w2, w3\n",
        "w1 = Value(-3.0 , lable = 'w1')\n",
        "w2 = Value(1.0 , lable = 'w2')\n",
        "w3 = Value(0.5 , lable = 'w3')\n",
        "\n",
        "# bias of neuron\n",
        "\n",
        "b = Value(6.5434543234323432343 , lable = 'b')\n",
        "\n",
        "x1w1 = x1*w1 ; x1w1.lable = 'x1w1'\n",
        "x2w2 = x2*w2 ; x2w2.lable = 'x2w2'\n",
        "x3w3 = x3*w3 ; x3w3.lable = 'x3w3'\n",
        "x1w1x2w2 = x1w1 + x2w2 ; x1w1x2w2.lable = 'x1w1x2w2'\n",
        "\n",
        "# Calculate the sum and assign it to a variable with a descriptive name\n",
        "x1w1x2w2x3w3_sum =x1w1x2w2 + x3w3\n",
        "x1w1x2w2x3w3_sum.lable = 'x1w1x2w2x3w3' # Assign the label to the sum\n",
        "\n",
        "# Now use the sum in the next calculation\n",
        "n = x1w1x2w2x3w3_sum + b\n",
        "n.lable = 'n'\n",
        "\n",
        "o = n.tanh() ; o.lable = 'o'"
      ],
      "metadata": {
        "id": "ote-nIrmahh9"
      },
      "execution_count": 4,
      "outputs": []
    },
    {
      "cell_type": "code",
      "source": [
        "o.backward()"
      ],
      "metadata": {
        "id": "CACqlmJXwG1-"
      },
      "execution_count": 5,
      "outputs": []
    },
    {
      "cell_type": "code",
      "source": [
        "draw_dot(o)"
      ],
      "metadata": {
        "colab": {
          "base_uri": "https://localhost:8080/",
          "height": 394
        },
        "id": "6ejKVyeGc3Wz",
        "outputId": "2e1b249b-c48f-4229-a461-80e31b417e00"
      },
      "execution_count": 6,
      "outputs": [
        {
          "output_type": "execute_result",
          "data": {
            "image/svg+xml": "<?xml version=\"1.0\" encoding=\"UTF-8\" standalone=\"no\"?>\n<!DOCTYPE svg PUBLIC \"-//W3C//DTD SVG 1.1//EN\"\n \"http://www.w3.org/Graphics/SVG/1.1/DTD/svg11.dtd\">\n<!-- Generated by graphviz version 2.43.0 (0)\n -->\n<!-- Title: %3 Pages: 1 -->\n<svg width=\"1950pt\" height=\"265pt\"\n viewBox=\"0.00 0.00 1950.00 265.00\" xmlns=\"http://www.w3.org/2000/svg\" xmlns:xlink=\"http://www.w3.org/1999/xlink\">\n<g id=\"graph0\" class=\"graph\" transform=\"scale(1 1) rotate(0) translate(4 261)\">\n<title>%3</title>\n<polygon fill=\"white\" stroke=\"transparent\" points=\"-4,4 -4,-261 1946,-261 1946,4 -4,4\"/>\n<!-- 139387797878336 -->\n<g id=\"node1\" class=\"node\">\n<title>139387797878336</title>\n<polygon fill=\"none\" stroke=\"black\" points=\"4,-220.5 4,-256.5 196,-256.5 196,-220.5 4,-220.5\"/>\n<text text-anchor=\"middle\" x=\"19\" y=\"-234.8\" font-family=\"Times,serif\" font-size=\"14.00\">x2</text>\n<polyline fill=\"none\" stroke=\"black\" points=\"34,-220.5 34,-256.5 \"/>\n<text text-anchor=\"middle\" x=\"74\" y=\"-234.8\" font-family=\"Times,serif\" font-size=\"14.00\">data 0.0000</text>\n<polyline fill=\"none\" stroke=\"black\" points=\"114,-220.5 114,-256.5 \"/>\n<text text-anchor=\"middle\" x=\"155\" y=\"-234.8\" font-family=\"Times,serif\" font-size=\"14.00\">grad 0.4483</text>\n</g>\n<!-- 139387797870800* -->\n<g id=\"node7\" class=\"node\">\n<title>139387797870800*</title>\n<ellipse fill=\"none\" stroke=\"black\" cx=\"263\" cy=\"-183.5\" rx=\"27\" ry=\"18\"/>\n<text text-anchor=\"middle\" x=\"263\" y=\"-179.8\" font-family=\"Times,serif\" font-size=\"14.00\">*</text>\n</g>\n<!-- 139387797878336&#45;&gt;139387797870800* -->\n<g id=\"edge17\" class=\"edge\">\n<title>139387797878336&#45;&gt;139387797870800*</title>\n<path fill=\"none\" stroke=\"black\" d=\"M172.53,-220.44C181.84,-217.67 191.2,-214.67 200,-211.5 210.53,-207.71 221.75,-202.9 231.72,-198.33\"/>\n<polygon fill=\"black\" stroke=\"black\" points=\"233.25,-201.48 240.82,-194.07 230.28,-195.14 233.25,-201.48\"/>\n</g>\n<!-- 139387797866576 -->\n<g id=\"node2\" class=\"node\">\n<title>139387797866576</title>\n<polygon fill=\"none\" stroke=\"black\" points=\"333.5,-55.5 333.5,-91.5 532.5,-91.5 532.5,-55.5 333.5,-55.5\"/>\n<text text-anchor=\"middle\" x=\"350\" y=\"-69.8\" font-family=\"Times,serif\" font-size=\"14.00\">w3</text>\n<polyline fill=\"none\" stroke=\"black\" points=\"366.5,-55.5 366.5,-91.5 \"/>\n<text text-anchor=\"middle\" x=\"406.5\" y=\"-69.8\" font-family=\"Times,serif\" font-size=\"14.00\">data 0.5000</text>\n<polyline fill=\"none\" stroke=\"black\" points=\"446.5,-55.5 446.5,-91.5 \"/>\n<text text-anchor=\"middle\" x=\"489.5\" y=\"-69.8\" font-family=\"Times,serif\" font-size=\"14.00\">grad &#45;1.3450</text>\n</g>\n<!-- 139387797875888* -->\n<g id=\"node5\" class=\"node\">\n<title>139387797875888*</title>\n<ellipse fill=\"none\" stroke=\"black\" cx=\"603\" cy=\"-73.5\" rx=\"27\" ry=\"18\"/>\n<text text-anchor=\"middle\" x=\"603\" y=\"-69.8\" font-family=\"Times,serif\" font-size=\"14.00\">*</text>\n</g>\n<!-- 139387797866576&#45;&gt;139387797875888* -->\n<g id=\"edge15\" class=\"edge\">\n<title>139387797866576&#45;&gt;139387797875888*</title>\n<path fill=\"none\" stroke=\"black\" d=\"M532.7,-73.5C544.34,-73.5 555.6,-73.5 565.53,-73.5\"/>\n<polygon fill=\"black\" stroke=\"black\" points=\"565.75,-77 575.75,-73.5 565.75,-70 565.75,-77\"/>\n</g>\n<!-- 139387797866624 -->\n<g id=\"node3\" class=\"node\">\n<title>139387797866624</title>\n<polygon fill=\"none\" stroke=\"black\" points=\"334.5,-0.5 334.5,-36.5 531.5,-36.5 531.5,-0.5 334.5,-0.5\"/>\n<text text-anchor=\"middle\" x=\"349.5\" y=\"-14.8\" font-family=\"Times,serif\" font-size=\"14.00\">x3</text>\n<polyline fill=\"none\" stroke=\"black\" points=\"364.5,-0.5 364.5,-36.5 \"/>\n<text text-anchor=\"middle\" x=\"407\" y=\"-14.8\" font-family=\"Times,serif\" font-size=\"14.00\">data &#45;3.0000</text>\n<polyline fill=\"none\" stroke=\"black\" points=\"449.5,-0.5 449.5,-36.5 \"/>\n<text text-anchor=\"middle\" x=\"490.5\" y=\"-14.8\" font-family=\"Times,serif\" font-size=\"14.00\">grad 0.2242</text>\n</g>\n<!-- 139387797866624&#45;&gt;139387797875888* -->\n<g id=\"edge13\" class=\"edge\">\n<title>139387797866624&#45;&gt;139387797875888*</title>\n<path fill=\"none\" stroke=\"black\" d=\"M508.28,-36.58C519,-39.63 529.84,-42.97 540,-46.5 550.31,-50.08 561.32,-54.63 571.15,-58.96\"/>\n<polygon fill=\"black\" stroke=\"black\" points=\"569.96,-62.26 580.52,-63.18 572.83,-55.88 569.96,-62.26\"/>\n</g>\n<!-- 139387797875888 -->\n<g id=\"node4\" class=\"node\">\n<title>139387797875888</title>\n<polygon fill=\"none\" stroke=\"black\" points=\"681,-55.5 681,-91.5 895,-91.5 895,-55.5 681,-55.5\"/>\n<text text-anchor=\"middle\" x=\"704.5\" y=\"-69.8\" font-family=\"Times,serif\" font-size=\"14.00\">x3w3</text>\n<polyline fill=\"none\" stroke=\"black\" points=\"728,-55.5 728,-91.5 \"/>\n<text text-anchor=\"middle\" x=\"770.5\" y=\"-69.8\" font-family=\"Times,serif\" font-size=\"14.00\">data &#45;1.5000</text>\n<polyline fill=\"none\" stroke=\"black\" points=\"813,-55.5 813,-91.5 \"/>\n<text text-anchor=\"middle\" x=\"854\" y=\"-69.8\" font-family=\"Times,serif\" font-size=\"14.00\">grad 0.4483</text>\n</g>\n<!-- 139387797876992+ -->\n<g id=\"node13\" class=\"node\">\n<title>139387797876992+</title>\n<ellipse fill=\"none\" stroke=\"black\" cx=\"973\" cy=\"-100.5\" rx=\"27\" ry=\"18\"/>\n<text text-anchor=\"middle\" x=\"973\" y=\"-96.8\" font-family=\"Times,serif\" font-size=\"14.00\">+</text>\n</g>\n<!-- 139387797875888&#45;&gt;139387797876992+ -->\n<g id=\"edge19\" class=\"edge\">\n<title>139387797875888&#45;&gt;139387797876992+</title>\n<path fill=\"none\" stroke=\"black\" d=\"M895.19,-89.17C909.94,-91.34 924.18,-93.44 936.3,-95.23\"/>\n<polygon fill=\"black\" stroke=\"black\" points=\"935.96,-98.72 946.36,-96.72 936.98,-91.8 935.96,-98.72\"/>\n</g>\n<!-- 139387797875888*&#45;&gt;139387797875888 -->\n<g id=\"edge1\" class=\"edge\">\n<title>139387797875888*&#45;&gt;139387797875888</title>\n<path fill=\"none\" stroke=\"black\" d=\"M630.22,-73.5C641.57,-73.5 655.72,-73.5 670.83,-73.5\"/>\n<polygon fill=\"black\" stroke=\"black\" points=\"670.89,-77 680.89,-73.5 670.89,-70 670.89,-77\"/>\n</g>\n<!-- 139387797870800 -->\n<g id=\"node6\" class=\"node\">\n<title>139387797870800</title>\n<polygon fill=\"none\" stroke=\"black\" points=\"328.5,-165.5 328.5,-201.5 537.5,-201.5 537.5,-165.5 328.5,-165.5\"/>\n<text text-anchor=\"middle\" x=\"352\" y=\"-179.8\" font-family=\"Times,serif\" font-size=\"14.00\">x2w2</text>\n<polyline fill=\"none\" stroke=\"black\" points=\"375.5,-165.5 375.5,-201.5 \"/>\n<text text-anchor=\"middle\" x=\"415.5\" y=\"-179.8\" font-family=\"Times,serif\" font-size=\"14.00\">data 0.0000</text>\n<polyline fill=\"none\" stroke=\"black\" points=\"455.5,-165.5 455.5,-201.5 \"/>\n<text text-anchor=\"middle\" x=\"496.5\" y=\"-179.8\" font-family=\"Times,serif\" font-size=\"14.00\">grad 0.4483</text>\n</g>\n<!-- 139387797871328+ -->\n<g id=\"node11\" class=\"node\">\n<title>139387797871328+</title>\n<ellipse fill=\"none\" stroke=\"black\" cx=\"603\" cy=\"-128.5\" rx=\"27\" ry=\"18\"/>\n<text text-anchor=\"middle\" x=\"603\" y=\"-124.8\" font-family=\"Times,serif\" font-size=\"14.00\">+</text>\n</g>\n<!-- 139387797870800&#45;&gt;139387797871328+ -->\n<g id=\"edge9\" class=\"edge\">\n<title>139387797870800&#45;&gt;139387797871328+</title>\n<path fill=\"none\" stroke=\"black\" d=\"M511.47,-165.45C521.15,-162.7 530.86,-159.7 540,-156.5 550.56,-152.8 561.79,-148.01 571.76,-143.43\"/>\n<polygon fill=\"black\" stroke=\"black\" points=\"573.29,-146.58 580.86,-139.16 570.32,-140.24 573.29,-146.58\"/>\n</g>\n<!-- 139387797870800*&#45;&gt;139387797870800 -->\n<g id=\"edge2\" class=\"edge\">\n<title>139387797870800*&#45;&gt;139387797870800</title>\n<path fill=\"none\" stroke=\"black\" d=\"M290.25,-183.5C298.43,-183.5 308.03,-183.5 318.31,-183.5\"/>\n<polygon fill=\"black\" stroke=\"black\" points=\"318.35,-187 328.35,-183.5 318.35,-180 318.35,-187\"/>\n</g>\n<!-- 139387797866720 -->\n<g id=\"node8\" class=\"node\">\n<title>139387797866720</title>\n<polygon fill=\"none\" stroke=\"black\" points=\"1436,-54.5 1436,-90.5 1626,-90.5 1626,-54.5 1436,-54.5\"/>\n<text text-anchor=\"middle\" x=\"1447.5\" y=\"-68.8\" font-family=\"Times,serif\" font-size=\"14.00\">n</text>\n<polyline fill=\"none\" stroke=\"black\" points=\"1459,-54.5 1459,-90.5 \"/>\n<text text-anchor=\"middle\" x=\"1501.5\" y=\"-68.8\" font-family=\"Times,serif\" font-size=\"14.00\">data &#45;0.9565</text>\n<polyline fill=\"none\" stroke=\"black\" points=\"1544,-54.5 1544,-90.5 \"/>\n<text text-anchor=\"middle\" x=\"1585\" y=\"-68.8\" font-family=\"Times,serif\" font-size=\"14.00\">grad 0.4483</text>\n</g>\n<!-- 139387797865280tanh -->\n<g id=\"node16\" class=\"node\">\n<title>139387797865280tanh</title>\n<ellipse fill=\"none\" stroke=\"black\" cx=\"1689\" cy=\"-72.5\" rx=\"27\" ry=\"18\"/>\n<text text-anchor=\"middle\" x=\"1689\" y=\"-68.8\" font-family=\"Times,serif\" font-size=\"14.00\">tanh</text>\n</g>\n<!-- 139387797866720&#45;&gt;139387797865280tanh -->\n<g id=\"edge18\" class=\"edge\">\n<title>139387797866720&#45;&gt;139387797865280tanh</title>\n<path fill=\"none\" stroke=\"black\" d=\"M1626.34,-72.5C1635.26,-72.5 1643.87,-72.5 1651.69,-72.5\"/>\n<polygon fill=\"black\" stroke=\"black\" points=\"1651.82,-76 1661.82,-72.5 1651.82,-69 1651.82,-76\"/>\n</g>\n<!-- 139387797866720+ -->\n<g id=\"node9\" class=\"node\">\n<title>139387797866720+</title>\n<ellipse fill=\"none\" stroke=\"black\" cx=\"1373\" cy=\"-72.5\" rx=\"27\" ry=\"18\"/>\n<text text-anchor=\"middle\" x=\"1373\" y=\"-68.8\" font-family=\"Times,serif\" font-size=\"14.00\">+</text>\n</g>\n<!-- 139387797866720+&#45;&gt;139387797866720 -->\n<g id=\"edge3\" class=\"edge\">\n<title>139387797866720+&#45;&gt;139387797866720</title>\n<path fill=\"none\" stroke=\"black\" d=\"M1400.11,-72.5C1407.63,-72.5 1416.32,-72.5 1425.58,-72.5\"/>\n<polygon fill=\"black\" stroke=\"black\" points=\"1425.81,-76 1435.81,-72.5 1425.81,-69 1425.81,-76\"/>\n</g>\n<!-- 139387797871328 -->\n<g id=\"node10\" class=\"node\">\n<title>139387797871328</title>\n<polygon fill=\"none\" stroke=\"black\" points=\"666,-110.5 666,-146.5 910,-146.5 910,-110.5 666,-110.5\"/>\n<text text-anchor=\"middle\" x=\"704.5\" y=\"-124.8\" font-family=\"Times,serif\" font-size=\"14.00\">x1w1x2w2</text>\n<polyline fill=\"none\" stroke=\"black\" points=\"743,-110.5 743,-146.5 \"/>\n<text text-anchor=\"middle\" x=\"785.5\" y=\"-124.8\" font-family=\"Times,serif\" font-size=\"14.00\">data &#45;6.0000</text>\n<polyline fill=\"none\" stroke=\"black\" points=\"828,-110.5 828,-146.5 \"/>\n<text text-anchor=\"middle\" x=\"869\" y=\"-124.8\" font-family=\"Times,serif\" font-size=\"14.00\">grad 0.4483</text>\n</g>\n<!-- 139387797871328&#45;&gt;139387797876992+ -->\n<g id=\"edge11\" class=\"edge\">\n<title>139387797871328&#45;&gt;139387797876992+</title>\n<path fill=\"none\" stroke=\"black\" d=\"M906.71,-110.49C917.38,-108.86 927.53,-107.3 936.51,-105.93\"/>\n<polygon fill=\"black\" stroke=\"black\" points=\"937.13,-109.38 946.48,-104.4 936.07,-102.46 937.13,-109.38\"/>\n</g>\n<!-- 139387797871328+&#45;&gt;139387797871328 -->\n<g id=\"edge4\" class=\"edge\">\n<title>139387797871328+&#45;&gt;139387797871328</title>\n<path fill=\"none\" stroke=\"black\" d=\"M630.22,-128.5C637.7,-128.5 646.4,-128.5 655.79,-128.5\"/>\n<polygon fill=\"black\" stroke=\"black\" points=\"655.8,-132 665.8,-128.5 655.8,-125 655.8,-132\"/>\n</g>\n<!-- 139387797876992 -->\n<g id=\"node12\" class=\"node\">\n<title>139387797876992</title>\n<polygon fill=\"none\" stroke=\"black\" points=\"1036,-82.5 1036,-118.5 1310,-118.5 1310,-82.5 1036,-82.5\"/>\n<text text-anchor=\"middle\" x=\"1089.5\" y=\"-96.8\" font-family=\"Times,serif\" font-size=\"14.00\">x1w1x2w2x3w3</text>\n<polyline fill=\"none\" stroke=\"black\" points=\"1143,-82.5 1143,-118.5 \"/>\n<text text-anchor=\"middle\" x=\"1185.5\" y=\"-96.8\" font-family=\"Times,serif\" font-size=\"14.00\">data &#45;7.5000</text>\n<polyline fill=\"none\" stroke=\"black\" points=\"1228,-82.5 1228,-118.5 \"/>\n<text text-anchor=\"middle\" x=\"1269\" y=\"-96.8\" font-family=\"Times,serif\" font-size=\"14.00\">grad 0.4483</text>\n</g>\n<!-- 139387797876992&#45;&gt;139387797866720+ -->\n<g id=\"edge12\" class=\"edge\">\n<title>139387797876992&#45;&gt;139387797866720+</title>\n<path fill=\"none\" stroke=\"black\" d=\"M1301.36,-82.49C1313.95,-80.71 1325.87,-79.02 1336.21,-77.56\"/>\n<polygon fill=\"black\" stroke=\"black\" points=\"1336.97,-80.99 1346.38,-76.12 1335.99,-74.06 1336.97,-80.99\"/>\n</g>\n<!-- 139387797876992+&#45;&gt;139387797876992 -->\n<g id=\"edge5\" class=\"edge\">\n<title>139387797876992+&#45;&gt;139387797876992</title>\n<path fill=\"none\" stroke=\"black\" d=\"M1000.29,-100.5C1007.71,-100.5 1016.34,-100.5 1025.71,-100.5\"/>\n<polygon fill=\"black\" stroke=\"black\" points=\"1025.72,-104 1035.72,-100.5 1025.72,-97 1025.72,-104\"/>\n</g>\n<!-- 139387797869360 -->\n<g id=\"node14\" class=\"node\">\n<title>139387797869360</title>\n<polygon fill=\"none\" stroke=\"black\" points=\"2.5,-165.5 2.5,-201.5 197.5,-201.5 197.5,-165.5 2.5,-165.5\"/>\n<text text-anchor=\"middle\" x=\"19\" y=\"-179.8\" font-family=\"Times,serif\" font-size=\"14.00\">w2</text>\n<polyline fill=\"none\" stroke=\"black\" points=\"35.5,-165.5 35.5,-201.5 \"/>\n<text text-anchor=\"middle\" x=\"75.5\" y=\"-179.8\" font-family=\"Times,serif\" font-size=\"14.00\">data 1.0000</text>\n<polyline fill=\"none\" stroke=\"black\" points=\"115.5,-165.5 115.5,-201.5 \"/>\n<text text-anchor=\"middle\" x=\"156.5\" y=\"-179.8\" font-family=\"Times,serif\" font-size=\"14.00\">grad 0.0000</text>\n</g>\n<!-- 139387797869360&#45;&gt;139387797870800* -->\n<g id=\"edge10\" class=\"edge\">\n<title>139387797869360&#45;&gt;139387797870800*</title>\n<path fill=\"none\" stroke=\"black\" d=\"M197.91,-183.5C207.65,-183.5 217.05,-183.5 225.52,-183.5\"/>\n<polygon fill=\"black\" stroke=\"black\" points=\"225.7,-187 235.7,-183.5 225.7,-180 225.7,-187\"/>\n</g>\n<!-- 139387797865280 -->\n<g id=\"node15\" class=\"node\">\n<title>139387797865280</title>\n<polygon fill=\"none\" stroke=\"black\" points=\"1752,-54.5 1752,-90.5 1942,-90.5 1942,-54.5 1752,-54.5\"/>\n<text text-anchor=\"middle\" x=\"1763.5\" y=\"-68.8\" font-family=\"Times,serif\" font-size=\"14.00\">o</text>\n<polyline fill=\"none\" stroke=\"black\" points=\"1775,-54.5 1775,-90.5 \"/>\n<text text-anchor=\"middle\" x=\"1817.5\" y=\"-68.8\" font-family=\"Times,serif\" font-size=\"14.00\">data &#45;0.7427</text>\n<polyline fill=\"none\" stroke=\"black\" points=\"1860,-54.5 1860,-90.5 \"/>\n<text text-anchor=\"middle\" x=\"1901\" y=\"-68.8\" font-family=\"Times,serif\" font-size=\"14.00\">grad 1.0000</text>\n</g>\n<!-- 139387797865280tanh&#45;&gt;139387797865280 -->\n<g id=\"edge6\" class=\"edge\">\n<title>139387797865280tanh&#45;&gt;139387797865280</title>\n<path fill=\"none\" stroke=\"black\" d=\"M1716.11,-72.5C1723.63,-72.5 1732.32,-72.5 1741.58,-72.5\"/>\n<polygon fill=\"black\" stroke=\"black\" points=\"1741.81,-76 1751.81,-72.5 1741.81,-69 1741.81,-76\"/>\n</g>\n<!-- 139387797874496 -->\n<g id=\"node17\" class=\"node\">\n<title>139387797874496</title>\n<polygon fill=\"none\" stroke=\"black\" points=\"0,-110.5 0,-146.5 200,-146.5 200,-110.5 0,-110.5\"/>\n<text text-anchor=\"middle\" x=\"16.5\" y=\"-124.8\" font-family=\"Times,serif\" font-size=\"14.00\">w1</text>\n<polyline fill=\"none\" stroke=\"black\" points=\"33,-110.5 33,-146.5 \"/>\n<text text-anchor=\"middle\" x=\"75.5\" y=\"-124.8\" font-family=\"Times,serif\" font-size=\"14.00\">data &#45;3.0000</text>\n<polyline fill=\"none\" stroke=\"black\" points=\"118,-110.5 118,-146.5 \"/>\n<text text-anchor=\"middle\" x=\"159\" y=\"-124.8\" font-family=\"Times,serif\" font-size=\"14.00\">grad 0.8967</text>\n</g>\n<!-- 139387797870992* -->\n<g id=\"node21\" class=\"node\">\n<title>139387797870992*</title>\n<ellipse fill=\"none\" stroke=\"black\" cx=\"263\" cy=\"-128.5\" rx=\"27\" ry=\"18\"/>\n<text text-anchor=\"middle\" x=\"263\" y=\"-124.8\" font-family=\"Times,serif\" font-size=\"14.00\">*</text>\n</g>\n<!-- 139387797874496&#45;&gt;139387797870992* -->\n<g id=\"edge16\" class=\"edge\">\n<title>139387797874496&#45;&gt;139387797870992*</title>\n<path fill=\"none\" stroke=\"black\" d=\"M200.21,-128.5C209.2,-128.5 217.86,-128.5 225.7,-128.5\"/>\n<polygon fill=\"black\" stroke=\"black\" points=\"225.85,-132 235.85,-128.5 225.85,-125 225.85,-132\"/>\n</g>\n<!-- 139387797878096 -->\n<g id=\"node18\" class=\"node\">\n<title>139387797878096</title>\n<polygon fill=\"none\" stroke=\"black\" points=\"2,-55.5 2,-91.5 198,-91.5 198,-55.5 2,-55.5\"/>\n<text text-anchor=\"middle\" x=\"17\" y=\"-69.8\" font-family=\"Times,serif\" font-size=\"14.00\">x1</text>\n<polyline fill=\"none\" stroke=\"black\" points=\"32,-55.5 32,-91.5 \"/>\n<text text-anchor=\"middle\" x=\"72\" y=\"-69.8\" font-family=\"Times,serif\" font-size=\"14.00\">data 2.0000</text>\n<polyline fill=\"none\" stroke=\"black\" points=\"112,-55.5 112,-91.5 \"/>\n<text text-anchor=\"middle\" x=\"155\" y=\"-69.8\" font-family=\"Times,serif\" font-size=\"14.00\">grad &#45;1.3450</text>\n</g>\n<!-- 139387797878096&#45;&gt;139387797870992* -->\n<g id=\"edge14\" class=\"edge\">\n<title>139387797878096&#45;&gt;139387797870992*</title>\n<path fill=\"none\" stroke=\"black\" d=\"M169.28,-91.5C179.65,-94.61 190.16,-97.98 200,-101.5 210.28,-105.17 221.28,-109.74 231.11,-114.07\"/>\n<polygon fill=\"black\" stroke=\"black\" points=\"229.93,-117.37 240.48,-118.27 232.79,-110.99 229.93,-117.37\"/>\n</g>\n<!-- 139387797878144 -->\n<g id=\"node19\" class=\"node\">\n<title>139387797878144</title>\n<polygon fill=\"none\" stroke=\"black\" points=\"1080.5,-27.5 1080.5,-63.5 1265.5,-63.5 1265.5,-27.5 1080.5,-27.5\"/>\n<text text-anchor=\"middle\" x=\"1092\" y=\"-41.8\" font-family=\"Times,serif\" font-size=\"14.00\">b</text>\n<polyline fill=\"none\" stroke=\"black\" points=\"1103.5,-27.5 1103.5,-63.5 \"/>\n<text text-anchor=\"middle\" x=\"1143.5\" y=\"-41.8\" font-family=\"Times,serif\" font-size=\"14.00\">data 6.5435</text>\n<polyline fill=\"none\" stroke=\"black\" points=\"1183.5,-27.5 1183.5,-63.5 \"/>\n<text text-anchor=\"middle\" x=\"1224.5\" y=\"-41.8\" font-family=\"Times,serif\" font-size=\"14.00\">grad 0.4483</text>\n</g>\n<!-- 139387797878144&#45;&gt;139387797866720+ -->\n<g id=\"edge8\" class=\"edge\">\n<title>139387797878144&#45;&gt;139387797866720+</title>\n<path fill=\"none\" stroke=\"black\" d=\"M1265.75,-58.01C1290.79,-61.43 1316.45,-64.93 1336.28,-67.63\"/>\n<polygon fill=\"black\" stroke=\"black\" points=\"1335.99,-71.12 1346.37,-69.01 1336.93,-64.19 1335.99,-71.12\"/>\n</g>\n<!-- 139387797870992 -->\n<g id=\"node20\" class=\"node\">\n<title>139387797870992</title>\n<polygon fill=\"none\" stroke=\"black\" points=\"326,-110.5 326,-146.5 540,-146.5 540,-110.5 326,-110.5\"/>\n<text text-anchor=\"middle\" x=\"349.5\" y=\"-124.8\" font-family=\"Times,serif\" font-size=\"14.00\">x1w1</text>\n<polyline fill=\"none\" stroke=\"black\" points=\"373,-110.5 373,-146.5 \"/>\n<text text-anchor=\"middle\" x=\"415.5\" y=\"-124.8\" font-family=\"Times,serif\" font-size=\"14.00\">data &#45;6.0000</text>\n<polyline fill=\"none\" stroke=\"black\" points=\"458,-110.5 458,-146.5 \"/>\n<text text-anchor=\"middle\" x=\"499\" y=\"-124.8\" font-family=\"Times,serif\" font-size=\"14.00\">grad 0.4483</text>\n</g>\n<!-- 139387797870992&#45;&gt;139387797871328+ -->\n<g id=\"edge20\" class=\"edge\">\n<title>139387797870992&#45;&gt;139387797871328+</title>\n<path fill=\"none\" stroke=\"black\" d=\"M540.4,-128.5C549.35,-128.5 557.94,-128.5 565.71,-128.5\"/>\n<polygon fill=\"black\" stroke=\"black\" points=\"565.76,-132 575.76,-128.5 565.76,-125 565.76,-132\"/>\n</g>\n<!-- 139387797870992*&#45;&gt;139387797870992 -->\n<g id=\"edge7\" class=\"edge\">\n<title>139387797870992*&#45;&gt;139387797870992</title>\n<path fill=\"none\" stroke=\"black\" d=\"M290.25,-128.5C297.7,-128.5 306.34,-128.5 315.59,-128.5\"/>\n<polygon fill=\"black\" stroke=\"black\" points=\"315.84,-132 325.84,-128.5 315.84,-125 315.84,-132\"/>\n</g>\n</g>\n</svg>\n",
            "text/plain": [
              "<graphviz.graphs.Digraph at 0x7ec5c02d8a00>"
            ]
          },
          "metadata": {},
          "execution_count": 6
        }
      ]
    },
    {
      "cell_type": "code",
      "source": [
        "# input x1 , x2 , x3\n",
        "x1 = Value(2.0 , lable = 'x1')\n",
        "x2 = Value(0.0 , lable = 'x2')\n",
        "x3 = Value(-3.0 , lable = 'x3')\n",
        "# weight w1 , w2, w3\n",
        "w1 = Value(-3.0 , lable = 'w1')\n",
        "w2 = Value(1.0 , lable = 'w2')\n",
        "w3 = Value(0.5 , lable = 'w3')\n",
        "\n",
        "# bias of neuron\n",
        "\n",
        "b = Value(6.5434543234323432343 , lable = 'b')\n",
        "\n",
        "x1w1 = x1*w1 ; x1w1.lable = 'x1w1'\n",
        "x2w2 = x2*w2 ; x2w2.lable = 'x2w2'\n",
        "x3w3 = x3*w3 ; x3w3.lable = 'x3w3'\n",
        "x1w1x2w2 = x1w1 + x2w2 ; x1w1x2w2.lable = 'x1w1x2w2'\n",
        "\n",
        "# Calculate the sum and assign it to a variable with a descriptive name\n",
        "x1w1x2w2x3w3_sum =x1w1x2w2 + x3w3\n",
        "x1w1x2w2x3w3_sum.lable = 'x1w1x2w2x3w3' # Assign the label to the sum\n",
        "\n",
        "# Now use the sum in the next calculation\n",
        "n = x1w1x2w2x3w3_sum + b\n",
        "n.lable = 'n'\n",
        "\n",
        "e = (2*n).exp()\n",
        "o = (e-1)/(e+1)\n",
        "o.lable = 'o'\n",
        "o.backward()\n",
        "draw_dot(o)"
      ],
      "metadata": {
        "colab": {
          "base_uri": "https://localhost:8080/",
          "height": 394
        },
        "id": "UvhiyF5bsYVy",
        "outputId": "cfec8764-aef7-45bb-e6c9-fab1d1a27c5f"
      },
      "execution_count": 7,
      "outputs": [
        {
          "output_type": "execute_result",
          "data": {
            "image/svg+xml": "<?xml version=\"1.0\" encoding=\"UTF-8\" standalone=\"no\"?>\n<!DOCTYPE svg PUBLIC \"-//W3C//DTD SVG 1.1//EN\"\n \"http://www.w3.org/Graphics/SVG/1.1/DTD/svg11.dtd\">\n<!-- Generated by graphviz version 2.43.0 (0)\n -->\n<!-- Title: %3 Pages: 1 -->\n<svg width=\"3329pt\" height=\"265pt\"\n viewBox=\"0.00 0.00 3329.00 265.00\" xmlns=\"http://www.w3.org/2000/svg\" xmlns:xlink=\"http://www.w3.org/1999/xlink\">\n<g id=\"graph0\" class=\"graph\" transform=\"scale(1 1) rotate(0) translate(4 261)\">\n<title>%3</title>\n<polygon fill=\"white\" stroke=\"transparent\" points=\"-4,4 -4,-261 3325,-261 3325,4 -4,4\"/>\n<!-- 139387797872672 -->\n<g id=\"node1\" class=\"node\">\n<title>139387797872672</title>\n<polygon fill=\"none\" stroke=\"black\" points=\"2065,-136.5 2065,-172.5 2252,-172.5 2252,-136.5 2065,-136.5\"/>\n<text text-anchor=\"middle\" x=\"2075\" y=\"-150.8\" font-family=\"Times,serif\" font-size=\"14.00\"> </text>\n<polyline fill=\"none\" stroke=\"black\" points=\"2085,-136.5 2085,-172.5 \"/>\n<text text-anchor=\"middle\" x=\"2127.5\" y=\"-150.8\" font-family=\"Times,serif\" font-size=\"14.00\">data &#45;1.0000</text>\n<polyline fill=\"none\" stroke=\"black\" points=\"2170,-136.5 2170,-172.5 \"/>\n<text text-anchor=\"middle\" x=\"2211\" y=\"-150.8\" font-family=\"Times,serif\" font-size=\"14.00\">grad 0.8714</text>\n</g>\n<!-- 139387797978656+ -->\n<g id=\"node26\" class=\"node\">\n<title>139387797978656+</title>\n<ellipse fill=\"none\" stroke=\"black\" cx=\"2315\" cy=\"-126.5\" rx=\"27\" ry=\"18\"/>\n<text text-anchor=\"middle\" x=\"2315\" y=\"-122.8\" font-family=\"Times,serif\" font-size=\"14.00\">+</text>\n</g>\n<!-- 139387797872672&#45;&gt;139387797978656+ -->\n<g id=\"edge19\" class=\"edge\">\n<title>139387797872672&#45;&gt;139387797978656+</title>\n<path fill=\"none\" stroke=\"black\" d=\"M2252.05,-137.73C2261.54,-136.01 2270.71,-134.35 2278.95,-132.85\"/>\n<polygon fill=\"black\" stroke=\"black\" points=\"2279.64,-136.28 2288.85,-131.06 2278.39,-129.4 2279.64,-136.28\"/>\n</g>\n<!-- 139387797868640 -->\n<g id=\"node2\" class=\"node\">\n<title>139387797868640</title>\n<polygon fill=\"none\" stroke=\"black\" points=\"2,-110.5 2,-146.5 198,-146.5 198,-110.5 2,-110.5\"/>\n<text text-anchor=\"middle\" x=\"17\" y=\"-124.8\" font-family=\"Times,serif\" font-size=\"14.00\">x1</text>\n<polyline fill=\"none\" stroke=\"black\" points=\"32,-110.5 32,-146.5 \"/>\n<text text-anchor=\"middle\" x=\"72\" y=\"-124.8\" font-family=\"Times,serif\" font-size=\"14.00\">data 2.0000</text>\n<polyline fill=\"none\" stroke=\"black\" points=\"112,-110.5 112,-146.5 \"/>\n<text text-anchor=\"middle\" x=\"155\" y=\"-124.8\" font-family=\"Times,serif\" font-size=\"14.00\">grad &#45;1.3450</text>\n</g>\n<!-- 139387797867968* -->\n<g id=\"node24\" class=\"node\">\n<title>139387797867968*</title>\n<ellipse fill=\"none\" stroke=\"black\" cx=\"263\" cy=\"-128.5\" rx=\"27\" ry=\"18\"/>\n<text text-anchor=\"middle\" x=\"263\" y=\"-124.8\" font-family=\"Times,serif\" font-size=\"14.00\">*</text>\n</g>\n<!-- 139387797868640&#45;&gt;139387797867968* -->\n<g id=\"edge26\" class=\"edge\">\n<title>139387797868640&#45;&gt;139387797867968*</title>\n<path fill=\"none\" stroke=\"black\" d=\"M198.37,-128.5C208.05,-128.5 217.4,-128.5 225.8,-128.5\"/>\n<polygon fill=\"black\" stroke=\"black\" points=\"225.91,-132 235.91,-128.5 225.91,-125 225.91,-132\"/>\n</g>\n<!-- 139387797966992 -->\n<g id=\"node3\" class=\"node\">\n<title>139387797966992</title>\n<polygon fill=\"none\" stroke=\"black\" points=\"2819,-57.5 2819,-93.5 3005,-93.5 3005,-57.5 2819,-57.5\"/>\n<text text-anchor=\"middle\" x=\"2829\" y=\"-71.8\" font-family=\"Times,serif\" font-size=\"14.00\"> </text>\n<polyline fill=\"none\" stroke=\"black\" points=\"2839,-57.5 2839,-93.5 \"/>\n<text text-anchor=\"middle\" x=\"2879\" y=\"-71.8\" font-family=\"Times,serif\" font-size=\"14.00\">data 0.8714</text>\n<polyline fill=\"none\" stroke=\"black\" points=\"2919,-57.5 2919,-93.5 \"/>\n<text text-anchor=\"middle\" x=\"2962\" y=\"-71.8\" font-family=\"Times,serif\" font-size=\"14.00\">grad &#45;0.8524</text>\n</g>\n<!-- 139387797968240* -->\n<g id=\"node22\" class=\"node\">\n<title>139387797968240*</title>\n<ellipse fill=\"none\" stroke=\"black\" cx=\"3068\" cy=\"-98.5\" rx=\"27\" ry=\"18\"/>\n<text text-anchor=\"middle\" x=\"3068\" y=\"-94.8\" font-family=\"Times,serif\" font-size=\"14.00\">*</text>\n</g>\n<!-- 139387797966992&#45;&gt;139387797968240* -->\n<g id=\"edge22\" class=\"edge\">\n<title>139387797966992&#45;&gt;139387797968240*</title>\n<path fill=\"none\" stroke=\"black\" d=\"M3005.25,-89.28C3014.42,-90.65 3023.3,-91.97 3031.32,-93.17\"/>\n<polygon fill=\"black\" stroke=\"black\" points=\"3030.93,-96.65 3041.33,-94.67 3031.96,-89.73 3030.93,-96.65\"/>\n</g>\n<!-- 139387797966992**&#45;1 -->\n<g id=\"node4\" class=\"node\">\n<title>139387797966992**&#45;1</title>\n<ellipse fill=\"none\" stroke=\"black\" cx=\"2689.5\" cy=\"-71.5\" rx=\"27\" ry=\"18\"/>\n<text text-anchor=\"middle\" x=\"2689.5\" y=\"-67.8\" font-family=\"Times,serif\" font-size=\"14.00\">**&#45;1</text>\n</g>\n<!-- 139387797966992**&#45;1&#45;&gt;139387797966992 -->\n<g id=\"edge1\" class=\"edge\">\n<title>139387797966992**&#45;1&#45;&gt;139387797966992</title>\n<path fill=\"none\" stroke=\"black\" d=\"M2716.66,-71.97C2739.71,-72.39 2774.83,-73.03 2808.91,-73.65\"/>\n<polygon fill=\"black\" stroke=\"black\" points=\"2808.9,-77.15 2818.96,-73.83 2809.03,-70.15 2808.9,-77.15\"/>\n</g>\n<!-- 139387797868736 -->\n<g id=\"node5\" class=\"node\">\n<title>139387797868736</title>\n<polygon fill=\"none\" stroke=\"black\" points=\"0,-55.5 0,-91.5 200,-91.5 200,-55.5 0,-55.5\"/>\n<text text-anchor=\"middle\" x=\"16.5\" y=\"-69.8\" font-family=\"Times,serif\" font-size=\"14.00\">w1</text>\n<polyline fill=\"none\" stroke=\"black\" points=\"33,-55.5 33,-91.5 \"/>\n<text text-anchor=\"middle\" x=\"75.5\" y=\"-69.8\" font-family=\"Times,serif\" font-size=\"14.00\">data &#45;3.0000</text>\n<polyline fill=\"none\" stroke=\"black\" points=\"118,-55.5 118,-91.5 \"/>\n<text text-anchor=\"middle\" x=\"159\" y=\"-69.8\" font-family=\"Times,serif\" font-size=\"14.00\">grad 0.8967</text>\n</g>\n<!-- 139387797868736&#45;&gt;139387797867968* -->\n<g id=\"edge28\" class=\"edge\">\n<title>139387797868736&#45;&gt;139387797867968*</title>\n<path fill=\"none\" stroke=\"black\" d=\"M169.28,-91.5C179.65,-94.61 190.16,-97.98 200,-101.5 210.28,-105.17 221.28,-109.74 231.11,-114.07\"/>\n<polygon fill=\"black\" stroke=\"black\" points=\"229.93,-117.37 240.48,-118.27 232.79,-110.99 229.93,-117.37\"/>\n</g>\n<!-- 139387797872864 -->\n<g id=\"node6\" class=\"node\">\n<title>139387797872864</title>\n<polygon fill=\"none\" stroke=\"black\" points=\"333.5,-55.5 333.5,-91.5 532.5,-91.5 532.5,-55.5 333.5,-55.5\"/>\n<text text-anchor=\"middle\" x=\"350\" y=\"-69.8\" font-family=\"Times,serif\" font-size=\"14.00\">w3</text>\n<polyline fill=\"none\" stroke=\"black\" points=\"366.5,-55.5 366.5,-91.5 \"/>\n<text text-anchor=\"middle\" x=\"406.5\" y=\"-69.8\" font-family=\"Times,serif\" font-size=\"14.00\">data 0.5000</text>\n<polyline fill=\"none\" stroke=\"black\" points=\"446.5,-55.5 446.5,-91.5 \"/>\n<text text-anchor=\"middle\" x=\"489.5\" y=\"-69.8\" font-family=\"Times,serif\" font-size=\"14.00\">grad &#45;1.3450</text>\n</g>\n<!-- 139387797878480* -->\n<g id=\"node33\" class=\"node\">\n<title>139387797878480*</title>\n<ellipse fill=\"none\" stroke=\"black\" cx=\"603\" cy=\"-73.5\" rx=\"27\" ry=\"18\"/>\n<text text-anchor=\"middle\" x=\"603\" y=\"-69.8\" font-family=\"Times,serif\" font-size=\"14.00\">*</text>\n</g>\n<!-- 139387797872864&#45;&gt;139387797878480* -->\n<g id=\"edge13\" class=\"edge\">\n<title>139387797872864&#45;&gt;139387797878480*</title>\n<path fill=\"none\" stroke=\"black\" d=\"M532.7,-73.5C544.34,-73.5 555.6,-73.5 565.53,-73.5\"/>\n<polygon fill=\"black\" stroke=\"black\" points=\"565.75,-77 575.75,-73.5 565.75,-70 565.75,-77\"/>\n</g>\n<!-- 139387797973568 -->\n<g id=\"node7\" class=\"node\">\n<title>139387797973568</title>\n<polygon fill=\"none\" stroke=\"black\" points=\"1752,-81.5 1752,-117.5 1939,-117.5 1939,-81.5 1752,-81.5\"/>\n<text text-anchor=\"middle\" x=\"1762\" y=\"-95.8\" font-family=\"Times,serif\" font-size=\"14.00\"> </text>\n<polyline fill=\"none\" stroke=\"black\" points=\"1772,-81.5 1772,-117.5 \"/>\n<text text-anchor=\"middle\" x=\"1814.5\" y=\"-95.8\" font-family=\"Times,serif\" font-size=\"14.00\">data &#45;1.9131</text>\n<polyline fill=\"none\" stroke=\"black\" points=\"1857,-81.5 1857,-117.5 \"/>\n<text text-anchor=\"middle\" x=\"1898\" y=\"-95.8\" font-family=\"Times,serif\" font-size=\"14.00\">grad 0.2242</text>\n</g>\n<!-- 139387797974720exp -->\n<g id=\"node31\" class=\"node\">\n<title>139387797974720exp</title>\n<ellipse fill=\"none\" stroke=\"black\" cx=\"2002\" cy=\"-99.5\" rx=\"27\" ry=\"18\"/>\n<text text-anchor=\"middle\" x=\"2002\" y=\"-95.8\" font-family=\"Times,serif\" font-size=\"14.00\">exp</text>\n</g>\n<!-- 139387797973568&#45;&gt;139387797974720exp -->\n<g id=\"edge30\" class=\"edge\">\n<title>139387797973568&#45;&gt;139387797974720exp</title>\n<path fill=\"none\" stroke=\"black\" d=\"M1939.05,-99.5C1948.06,-99.5 1956.79,-99.5 1964.7,-99.5\"/>\n<polygon fill=\"black\" stroke=\"black\" points=\"1964.95,-103 1974.95,-99.5 1964.95,-96 1964.95,-103\"/>\n</g>\n<!-- 139387797973568* -->\n<g id=\"node8\" class=\"node\">\n<title>139387797973568*</title>\n<ellipse fill=\"none\" stroke=\"black\" cx=\"1689\" cy=\"-99.5\" rx=\"27\" ry=\"18\"/>\n<text text-anchor=\"middle\" x=\"1689\" y=\"-95.8\" font-family=\"Times,serif\" font-size=\"14.00\">*</text>\n</g>\n<!-- 139387797973568*&#45;&gt;139387797973568 -->\n<g id=\"edge2\" class=\"edge\">\n<title>139387797973568*&#45;&gt;139387797973568</title>\n<path fill=\"none\" stroke=\"black\" d=\"M1716.21,-99.5C1723.73,-99.5 1732.43,-99.5 1741.67,-99.5\"/>\n<polygon fill=\"black\" stroke=\"black\" points=\"1741.89,-103 1751.89,-99.5 1741.89,-96 1741.89,-103\"/>\n</g>\n<!-- 139387797865136 -->\n<g id=\"node9\" class=\"node\">\n<title>139387797865136</title>\n<polygon fill=\"none\" stroke=\"black\" points=\"328.5,-165.5 328.5,-201.5 537.5,-201.5 537.5,-165.5 328.5,-165.5\"/>\n<text text-anchor=\"middle\" x=\"352\" y=\"-179.8\" font-family=\"Times,serif\" font-size=\"14.00\">x2w2</text>\n<polyline fill=\"none\" stroke=\"black\" points=\"375.5,-165.5 375.5,-201.5 \"/>\n<text text-anchor=\"middle\" x=\"415.5\" y=\"-179.8\" font-family=\"Times,serif\" font-size=\"14.00\">data 0.0000</text>\n<polyline fill=\"none\" stroke=\"black\" points=\"455.5,-165.5 455.5,-201.5 \"/>\n<text text-anchor=\"middle\" x=\"496.5\" y=\"-179.8\" font-family=\"Times,serif\" font-size=\"14.00\">grad 0.4483</text>\n</g>\n<!-- 139387797876656+ -->\n<g id=\"node12\" class=\"node\">\n<title>139387797876656+</title>\n<ellipse fill=\"none\" stroke=\"black\" cx=\"603\" cy=\"-128.5\" rx=\"27\" ry=\"18\"/>\n<text text-anchor=\"middle\" x=\"603\" y=\"-124.8\" font-family=\"Times,serif\" font-size=\"14.00\">+</text>\n</g>\n<!-- 139387797865136&#45;&gt;139387797876656+ -->\n<g id=\"edge32\" class=\"edge\">\n<title>139387797865136&#45;&gt;139387797876656+</title>\n<path fill=\"none\" stroke=\"black\" d=\"M511.47,-165.45C521.15,-162.7 530.86,-159.7 540,-156.5 550.56,-152.8 561.79,-148.01 571.76,-143.43\"/>\n<polygon fill=\"black\" stroke=\"black\" points=\"573.29,-146.58 580.86,-139.16 570.32,-140.24 573.29,-146.58\"/>\n</g>\n<!-- 139387797865136* -->\n<g id=\"node10\" class=\"node\">\n<title>139387797865136*</title>\n<ellipse fill=\"none\" stroke=\"black\" cx=\"263\" cy=\"-183.5\" rx=\"27\" ry=\"18\"/>\n<text text-anchor=\"middle\" x=\"263\" y=\"-179.8\" font-family=\"Times,serif\" font-size=\"14.00\">*</text>\n</g>\n<!-- 139387797865136*&#45;&gt;139387797865136 -->\n<g id=\"edge3\" class=\"edge\">\n<title>139387797865136*&#45;&gt;139387797865136</title>\n<path fill=\"none\" stroke=\"black\" d=\"M290.25,-183.5C298.43,-183.5 308.03,-183.5 318.31,-183.5\"/>\n<polygon fill=\"black\" stroke=\"black\" points=\"318.35,-187 328.35,-183.5 318.35,-180 318.35,-187\"/>\n</g>\n<!-- 139387797876656 -->\n<g id=\"node11\" class=\"node\">\n<title>139387797876656</title>\n<polygon fill=\"none\" stroke=\"black\" points=\"666,-110.5 666,-146.5 910,-146.5 910,-110.5 666,-110.5\"/>\n<text text-anchor=\"middle\" x=\"704.5\" y=\"-124.8\" font-family=\"Times,serif\" font-size=\"14.00\">x1w1x2w2</text>\n<polyline fill=\"none\" stroke=\"black\" points=\"743,-110.5 743,-146.5 \"/>\n<text text-anchor=\"middle\" x=\"785.5\" y=\"-124.8\" font-family=\"Times,serif\" font-size=\"14.00\">data &#45;6.0000</text>\n<polyline fill=\"none\" stroke=\"black\" points=\"828,-110.5 828,-146.5 \"/>\n<text text-anchor=\"middle\" x=\"869\" y=\"-124.8\" font-family=\"Times,serif\" font-size=\"14.00\">grad 0.4483</text>\n</g>\n<!-- 139387797970112+ -->\n<g id=\"node17\" class=\"node\">\n<title>139387797970112+</title>\n<ellipse fill=\"none\" stroke=\"black\" cx=\"973\" cy=\"-100.5\" rx=\"27\" ry=\"18\"/>\n<text text-anchor=\"middle\" x=\"973\" y=\"-96.8\" font-family=\"Times,serif\" font-size=\"14.00\">+</text>\n</g>\n<!-- 139387797876656&#45;&gt;139387797970112+ -->\n<g id=\"edge18\" class=\"edge\">\n<title>139387797876656&#45;&gt;139387797970112+</title>\n<path fill=\"none\" stroke=\"black\" d=\"M906.71,-110.49C917.38,-108.86 927.53,-107.3 936.51,-105.93\"/>\n<polygon fill=\"black\" stroke=\"black\" points=\"937.13,-109.38 946.48,-104.4 936.07,-102.46 937.13,-109.38\"/>\n</g>\n<!-- 139387797876656+&#45;&gt;139387797876656 -->\n<g id=\"edge4\" class=\"edge\">\n<title>139387797876656+&#45;&gt;139387797876656</title>\n<path fill=\"none\" stroke=\"black\" d=\"M630.22,-128.5C637.7,-128.5 646.4,-128.5 655.79,-128.5\"/>\n<polygon fill=\"black\" stroke=\"black\" points=\"655.8,-132 665.8,-128.5 655.8,-125 655.8,-132\"/>\n</g>\n<!-- 139387797969920 -->\n<g id=\"node13\" class=\"node\">\n<title>139387797969920</title>\n<polygon fill=\"none\" stroke=\"black\" points=\"2378,-53.5 2378,-89.5 2560,-89.5 2560,-53.5 2378,-53.5\"/>\n<text text-anchor=\"middle\" x=\"2388\" y=\"-67.8\" font-family=\"Times,serif\" font-size=\"14.00\"> </text>\n<polyline fill=\"none\" stroke=\"black\" points=\"2398,-53.5 2398,-89.5 \"/>\n<text text-anchor=\"middle\" x=\"2438\" y=\"-67.8\" font-family=\"Times,serif\" font-size=\"14.00\">data 1.1476</text>\n<polyline fill=\"none\" stroke=\"black\" points=\"2478,-53.5 2478,-89.5 \"/>\n<text text-anchor=\"middle\" x=\"2519\" y=\"-67.8\" font-family=\"Times,serif\" font-size=\"14.00\">grad 0.6472</text>\n</g>\n<!-- 139387797969920&#45;&gt;139387797966992**&#45;1 -->\n<g id=\"edge29\" class=\"edge\">\n<title>139387797969920&#45;&gt;139387797966992**&#45;1</title>\n<path fill=\"none\" stroke=\"black\" d=\"M2560.13,-71.5C2592.43,-71.5 2627.03,-71.5 2652.16,-71.5\"/>\n<polygon fill=\"black\" stroke=\"black\" points=\"2652.32,-75 2662.32,-71.5 2652.32,-68 2652.32,-75\"/>\n</g>\n<!-- 139387797969920+ -->\n<g id=\"node14\" class=\"node\">\n<title>139387797969920+</title>\n<ellipse fill=\"none\" stroke=\"black\" cx=\"2315\" cy=\"-71.5\" rx=\"27\" ry=\"18\"/>\n<text text-anchor=\"middle\" x=\"2315\" y=\"-67.8\" font-family=\"Times,serif\" font-size=\"14.00\">+</text>\n</g>\n<!-- 139387797969920+&#45;&gt;139387797969920 -->\n<g id=\"edge5\" class=\"edge\">\n<title>139387797969920+&#45;&gt;139387797969920</title>\n<path fill=\"none\" stroke=\"black\" d=\"M2342.13,-71.5C2349.67,-71.5 2358.39,-71.5 2367.64,-71.5\"/>\n<polygon fill=\"black\" stroke=\"black\" points=\"2367.87,-75 2377.87,-71.5 2367.87,-68 2367.87,-75\"/>\n</g>\n<!-- 139387797969968 -->\n<g id=\"node15\" class=\"node\">\n<title>139387797969968</title>\n<polygon fill=\"none\" stroke=\"black\" points=\"2067.5,-26.5 2067.5,-62.5 2249.5,-62.5 2249.5,-26.5 2067.5,-26.5\"/>\n<text text-anchor=\"middle\" x=\"2077.5\" y=\"-40.8\" font-family=\"Times,serif\" font-size=\"14.00\"> </text>\n<polyline fill=\"none\" stroke=\"black\" points=\"2087.5,-26.5 2087.5,-62.5 \"/>\n<text text-anchor=\"middle\" x=\"2127.5\" y=\"-40.8\" font-family=\"Times,serif\" font-size=\"14.00\">data 1.0000</text>\n<polyline fill=\"none\" stroke=\"black\" points=\"2167.5,-26.5 2167.5,-62.5 \"/>\n<text text-anchor=\"middle\" x=\"2208.5\" y=\"-40.8\" font-family=\"Times,serif\" font-size=\"14.00\">grad 0.6472</text>\n</g>\n<!-- 139387797969968&#45;&gt;139387797969920+ -->\n<g id=\"edge17\" class=\"edge\">\n<title>139387797969968&#45;&gt;139387797969920+</title>\n<path fill=\"none\" stroke=\"black\" d=\"M2249.82,-60.28C2260.07,-62.08 2270.01,-63.81 2278.88,-65.36\"/>\n<polygon fill=\"black\" stroke=\"black\" points=\"2278.3,-68.81 2288.75,-67.09 2279.5,-61.92 2278.3,-68.81\"/>\n</g>\n<!-- 139387797970112 -->\n<g id=\"node16\" class=\"node\">\n<title>139387797970112</title>\n<polygon fill=\"none\" stroke=\"black\" points=\"1036,-82.5 1036,-118.5 1310,-118.5 1310,-82.5 1036,-82.5\"/>\n<text text-anchor=\"middle\" x=\"1089.5\" y=\"-96.8\" font-family=\"Times,serif\" font-size=\"14.00\">x1w1x2w2x3w3</text>\n<polyline fill=\"none\" stroke=\"black\" points=\"1143,-82.5 1143,-118.5 \"/>\n<text text-anchor=\"middle\" x=\"1185.5\" y=\"-96.8\" font-family=\"Times,serif\" font-size=\"14.00\">data &#45;7.5000</text>\n<polyline fill=\"none\" stroke=\"black\" points=\"1228,-82.5 1228,-118.5 \"/>\n<text text-anchor=\"middle\" x=\"1269\" y=\"-96.8\" font-family=\"Times,serif\" font-size=\"14.00\">grad 0.4483</text>\n</g>\n<!-- 139387797978752+ -->\n<g id=\"node29\" class=\"node\">\n<title>139387797978752+</title>\n<ellipse fill=\"none\" stroke=\"black\" cx=\"1373\" cy=\"-72.5\" rx=\"27\" ry=\"18\"/>\n<text text-anchor=\"middle\" x=\"1373\" y=\"-68.8\" font-family=\"Times,serif\" font-size=\"14.00\">+</text>\n</g>\n<!-- 139387797970112&#45;&gt;139387797978752+ -->\n<g id=\"edge20\" class=\"edge\">\n<title>139387797970112&#45;&gt;139387797978752+</title>\n<path fill=\"none\" stroke=\"black\" d=\"M1301.36,-82.49C1313.95,-80.71 1325.87,-79.02 1336.21,-77.56\"/>\n<polygon fill=\"black\" stroke=\"black\" points=\"1336.97,-80.99 1346.38,-76.12 1335.99,-74.06 1336.97,-80.99\"/>\n</g>\n<!-- 139387797970112+&#45;&gt;139387797970112 -->\n<g id=\"edge6\" class=\"edge\">\n<title>139387797970112+&#45;&gt;139387797970112</title>\n<path fill=\"none\" stroke=\"black\" d=\"M1000.29,-100.5C1007.71,-100.5 1016.34,-100.5 1025.71,-100.5\"/>\n<polygon fill=\"black\" stroke=\"black\" points=\"1025.72,-104 1035.72,-100.5 1025.72,-97 1025.72,-104\"/>\n</g>\n<!-- 139387797873920 -->\n<g id=\"node18\" class=\"node\">\n<title>139387797873920</title>\n<polygon fill=\"none\" stroke=\"black\" points=\"1080.5,-27.5 1080.5,-63.5 1265.5,-63.5 1265.5,-27.5 1080.5,-27.5\"/>\n<text text-anchor=\"middle\" x=\"1092\" y=\"-41.8\" font-family=\"Times,serif\" font-size=\"14.00\">b</text>\n<polyline fill=\"none\" stroke=\"black\" points=\"1103.5,-27.5 1103.5,-63.5 \"/>\n<text text-anchor=\"middle\" x=\"1143.5\" y=\"-41.8\" font-family=\"Times,serif\" font-size=\"14.00\">data 6.5435</text>\n<polyline fill=\"none\" stroke=\"black\" points=\"1183.5,-27.5 1183.5,-63.5 \"/>\n<text text-anchor=\"middle\" x=\"1224.5\" y=\"-41.8\" font-family=\"Times,serif\" font-size=\"14.00\">grad 0.4483</text>\n</g>\n<!-- 139387797873920&#45;&gt;139387797978752+ -->\n<g id=\"edge34\" class=\"edge\">\n<title>139387797873920&#45;&gt;139387797978752+</title>\n<path fill=\"none\" stroke=\"black\" d=\"M1265.75,-58.01C1290.79,-61.43 1316.45,-64.93 1336.28,-67.63\"/>\n<polygon fill=\"black\" stroke=\"black\" points=\"1335.99,-71.12 1346.37,-69.01 1336.93,-64.19 1335.99,-71.12\"/>\n</g>\n<!-- 139387797865760 -->\n<g id=\"node19\" class=\"node\">\n<title>139387797865760</title>\n<polygon fill=\"none\" stroke=\"black\" points=\"2.5,-220.5 2.5,-256.5 197.5,-256.5 197.5,-220.5 2.5,-220.5\"/>\n<text text-anchor=\"middle\" x=\"19\" y=\"-234.8\" font-family=\"Times,serif\" font-size=\"14.00\">w2</text>\n<polyline fill=\"none\" stroke=\"black\" points=\"35.5,-220.5 35.5,-256.5 \"/>\n<text text-anchor=\"middle\" x=\"75.5\" y=\"-234.8\" font-family=\"Times,serif\" font-size=\"14.00\">data 1.0000</text>\n<polyline fill=\"none\" stroke=\"black\" points=\"115.5,-220.5 115.5,-256.5 \"/>\n<text text-anchor=\"middle\" x=\"156.5\" y=\"-234.8\" font-family=\"Times,serif\" font-size=\"14.00\">grad 0.0000</text>\n</g>\n<!-- 139387797865760&#45;&gt;139387797865136* -->\n<g id=\"edge16\" class=\"edge\">\n<title>139387797865760&#45;&gt;139387797865136*</title>\n<path fill=\"none\" stroke=\"black\" d=\"M172.53,-220.44C181.84,-217.67 191.2,-214.67 200,-211.5 210.53,-207.71 221.75,-202.9 231.72,-198.33\"/>\n<polygon fill=\"black\" stroke=\"black\" points=\"233.25,-201.48 240.82,-194.07 230.28,-195.14 233.25,-201.48\"/>\n</g>\n<!-- 139387797970208 -->\n<g id=\"node20\" class=\"node\">\n<title>139387797970208</title>\n<polygon fill=\"none\" stroke=\"black\" points=\"1438,-109.5 1438,-145.5 1624,-145.5 1624,-109.5 1438,-109.5\"/>\n<text text-anchor=\"middle\" x=\"1448\" y=\"-123.8\" font-family=\"Times,serif\" font-size=\"14.00\"> </text>\n<polyline fill=\"none\" stroke=\"black\" points=\"1458,-109.5 1458,-145.5 \"/>\n<text text-anchor=\"middle\" x=\"1498\" y=\"-123.8\" font-family=\"Times,serif\" font-size=\"14.00\">data 2.0000</text>\n<polyline fill=\"none\" stroke=\"black\" points=\"1538,-109.5 1538,-145.5 \"/>\n<text text-anchor=\"middle\" x=\"1581\" y=\"-123.8\" font-family=\"Times,serif\" font-size=\"14.00\">grad &#45;0.2144</text>\n</g>\n<!-- 139387797970208&#45;&gt;139387797973568* -->\n<g id=\"edge31\" class=\"edge\">\n<title>139387797970208&#45;&gt;139387797973568*</title>\n<path fill=\"none\" stroke=\"black\" d=\"M1624.1,-110.97C1634.13,-109.17 1643.85,-107.42 1652.55,-105.86\"/>\n<polygon fill=\"black\" stroke=\"black\" points=\"1653.38,-109.27 1662.6,-104.06 1652.14,-102.38 1653.38,-109.27\"/>\n</g>\n<!-- 139387797968240 -->\n<g id=\"node21\" class=\"node\">\n<title>139387797968240</title>\n<polygon fill=\"none\" stroke=\"black\" points=\"3131,-80.5 3131,-116.5 3321,-116.5 3321,-80.5 3131,-80.5\"/>\n<text text-anchor=\"middle\" x=\"3142.5\" y=\"-94.8\" font-family=\"Times,serif\" font-size=\"14.00\">o</text>\n<polyline fill=\"none\" stroke=\"black\" points=\"3154,-80.5 3154,-116.5 \"/>\n<text text-anchor=\"middle\" x=\"3196.5\" y=\"-94.8\" font-family=\"Times,serif\" font-size=\"14.00\">data &#45;0.7427</text>\n<polyline fill=\"none\" stroke=\"black\" points=\"3239,-80.5 3239,-116.5 \"/>\n<text text-anchor=\"middle\" x=\"3280\" y=\"-94.8\" font-family=\"Times,serif\" font-size=\"14.00\">grad 1.0000</text>\n</g>\n<!-- 139387797968240*&#45;&gt;139387797968240 -->\n<g id=\"edge7\" class=\"edge\">\n<title>139387797968240*&#45;&gt;139387797968240</title>\n<path fill=\"none\" stroke=\"black\" d=\"M3095.11,-98.5C3102.63,-98.5 3111.32,-98.5 3120.58,-98.5\"/>\n<polygon fill=\"black\" stroke=\"black\" points=\"3120.81,-102 3130.81,-98.5 3120.81,-95 3120.81,-102\"/>\n</g>\n<!-- 139387797867968 -->\n<g id=\"node23\" class=\"node\">\n<title>139387797867968</title>\n<polygon fill=\"none\" stroke=\"black\" points=\"326,-110.5 326,-146.5 540,-146.5 540,-110.5 326,-110.5\"/>\n<text text-anchor=\"middle\" x=\"349.5\" y=\"-124.8\" font-family=\"Times,serif\" font-size=\"14.00\">x1w1</text>\n<polyline fill=\"none\" stroke=\"black\" points=\"373,-110.5 373,-146.5 \"/>\n<text text-anchor=\"middle\" x=\"415.5\" y=\"-124.8\" font-family=\"Times,serif\" font-size=\"14.00\">data &#45;6.0000</text>\n<polyline fill=\"none\" stroke=\"black\" points=\"458,-110.5 458,-146.5 \"/>\n<text text-anchor=\"middle\" x=\"499\" y=\"-124.8\" font-family=\"Times,serif\" font-size=\"14.00\">grad 0.4483</text>\n</g>\n<!-- 139387797867968&#45;&gt;139387797876656+ -->\n<g id=\"edge27\" class=\"edge\">\n<title>139387797867968&#45;&gt;139387797876656+</title>\n<path fill=\"none\" stroke=\"black\" d=\"M540.4,-128.5C549.35,-128.5 557.94,-128.5 565.71,-128.5\"/>\n<polygon fill=\"black\" stroke=\"black\" points=\"565.76,-132 575.76,-128.5 565.76,-125 565.76,-132\"/>\n</g>\n<!-- 139387797867968*&#45;&gt;139387797867968 -->\n<g id=\"edge8\" class=\"edge\">\n<title>139387797867968*&#45;&gt;139387797867968</title>\n<path fill=\"none\" stroke=\"black\" d=\"M290.25,-128.5C297.7,-128.5 306.34,-128.5 315.59,-128.5\"/>\n<polygon fill=\"black\" stroke=\"black\" points=\"315.84,-132 325.84,-128.5 315.84,-125 315.84,-132\"/>\n</g>\n<!-- 139387797978656 -->\n<g id=\"node25\" class=\"node\">\n<title>139387797978656</title>\n<polygon fill=\"none\" stroke=\"black\" points=\"2596,-108.5 2596,-144.5 2783,-144.5 2783,-108.5 2596,-108.5\"/>\n<text text-anchor=\"middle\" x=\"2606\" y=\"-122.8\" font-family=\"Times,serif\" font-size=\"14.00\"> </text>\n<polyline fill=\"none\" stroke=\"black\" points=\"2616,-108.5 2616,-144.5 \"/>\n<text text-anchor=\"middle\" x=\"2658.5\" y=\"-122.8\" font-family=\"Times,serif\" font-size=\"14.00\">data &#45;0.8524</text>\n<polyline fill=\"none\" stroke=\"black\" points=\"2701,-108.5 2701,-144.5 \"/>\n<text text-anchor=\"middle\" x=\"2742\" y=\"-122.8\" font-family=\"Times,serif\" font-size=\"14.00\">grad 0.8714</text>\n</g>\n<!-- 139387797978656&#45;&gt;139387797968240* -->\n<g id=\"edge14\" class=\"edge\">\n<title>139387797978656&#45;&gt;139387797968240*</title>\n<path fill=\"none\" stroke=\"black\" d=\"M2783.06,-119.91C2845.72,-115.41 2930.35,-109.24 3005,-103.5 3013.42,-102.85 3022.48,-102.13 3031.01,-101.45\"/>\n<polygon fill=\"black\" stroke=\"black\" points=\"3031.38,-104.93 3041.06,-100.64 3030.81,-97.95 3031.38,-104.93\"/>\n</g>\n<!-- 139387797978656+&#45;&gt;139387797978656 -->\n<g id=\"edge9\" class=\"edge\">\n<title>139387797978656+&#45;&gt;139387797978656</title>\n<path fill=\"none\" stroke=\"black\" d=\"M2342.19,-126.5C2391.95,-126.5 2502.57,-126.5 2585.49,-126.5\"/>\n<polygon fill=\"black\" stroke=\"black\" points=\"2585.71,-130 2595.71,-126.5 2585.71,-123 2585.71,-130\"/>\n</g>\n<!-- 139387797872192 -->\n<g id=\"node27\" class=\"node\">\n<title>139387797872192</title>\n<polygon fill=\"none\" stroke=\"black\" points=\"4,-165.5 4,-201.5 196,-201.5 196,-165.5 4,-165.5\"/>\n<text text-anchor=\"middle\" x=\"19\" y=\"-179.8\" font-family=\"Times,serif\" font-size=\"14.00\">x2</text>\n<polyline fill=\"none\" stroke=\"black\" points=\"34,-165.5 34,-201.5 \"/>\n<text text-anchor=\"middle\" x=\"74\" y=\"-179.8\" font-family=\"Times,serif\" font-size=\"14.00\">data 0.0000</text>\n<polyline fill=\"none\" stroke=\"black\" points=\"114,-165.5 114,-201.5 \"/>\n<text text-anchor=\"middle\" x=\"155\" y=\"-179.8\" font-family=\"Times,serif\" font-size=\"14.00\">grad 0.4483</text>\n</g>\n<!-- 139387797872192&#45;&gt;139387797865136* -->\n<g id=\"edge23\" class=\"edge\">\n<title>139387797872192&#45;&gt;139387797865136*</title>\n<path fill=\"none\" stroke=\"black\" d=\"M196.05,-183.5C206.52,-183.5 216.65,-183.5 225.71,-183.5\"/>\n<polygon fill=\"black\" stroke=\"black\" points=\"225.79,-187 235.79,-183.5 225.79,-180 225.79,-187\"/>\n</g>\n<!-- 139387797978752 -->\n<g id=\"node28\" class=\"node\">\n<title>139387797978752</title>\n<polygon fill=\"none\" stroke=\"black\" points=\"1436,-54.5 1436,-90.5 1626,-90.5 1626,-54.5 1436,-54.5\"/>\n<text text-anchor=\"middle\" x=\"1447.5\" y=\"-68.8\" font-family=\"Times,serif\" font-size=\"14.00\">n</text>\n<polyline fill=\"none\" stroke=\"black\" points=\"1459,-54.5 1459,-90.5 \"/>\n<text text-anchor=\"middle\" x=\"1501.5\" y=\"-68.8\" font-family=\"Times,serif\" font-size=\"14.00\">data &#45;0.9565</text>\n<polyline fill=\"none\" stroke=\"black\" points=\"1544,-54.5 1544,-90.5 \"/>\n<text text-anchor=\"middle\" x=\"1585\" y=\"-68.8\" font-family=\"Times,serif\" font-size=\"14.00\">grad 0.4483</text>\n</g>\n<!-- 139387797978752&#45;&gt;139387797973568* -->\n<g id=\"edge15\" class=\"edge\">\n<title>139387797978752&#45;&gt;139387797973568*</title>\n<path fill=\"none\" stroke=\"black\" d=\"M1626.34,-88.83C1635.62,-90.44 1644.58,-91.99 1652.66,-93.38\"/>\n<polygon fill=\"black\" stroke=\"black\" points=\"1652.27,-96.87 1662.72,-95.12 1653.46,-89.97 1652.27,-96.87\"/>\n</g>\n<!-- 139387797978752+&#45;&gt;139387797978752 -->\n<g id=\"edge10\" class=\"edge\">\n<title>139387797978752+&#45;&gt;139387797978752</title>\n<path fill=\"none\" stroke=\"black\" d=\"M1400.11,-72.5C1407.63,-72.5 1416.32,-72.5 1425.58,-72.5\"/>\n<polygon fill=\"black\" stroke=\"black\" points=\"1425.81,-76 1435.81,-72.5 1425.81,-69 1425.81,-76\"/>\n</g>\n<!-- 139387797974720 -->\n<g id=\"node30\" class=\"node\">\n<title>139387797974720</title>\n<polygon fill=\"none\" stroke=\"black\" points=\"2067.5,-81.5 2067.5,-117.5 2249.5,-117.5 2249.5,-81.5 2067.5,-81.5\"/>\n<text text-anchor=\"middle\" x=\"2077.5\" y=\"-95.8\" font-family=\"Times,serif\" font-size=\"14.00\"> </text>\n<polyline fill=\"none\" stroke=\"black\" points=\"2087.5,-81.5 2087.5,-117.5 \"/>\n<text text-anchor=\"middle\" x=\"2127.5\" y=\"-95.8\" font-family=\"Times,serif\" font-size=\"14.00\">data 0.1476</text>\n<polyline fill=\"none\" stroke=\"black\" points=\"2167.5,-81.5 2167.5,-117.5 \"/>\n<text text-anchor=\"middle\" x=\"2208.5\" y=\"-95.8\" font-family=\"Times,serif\" font-size=\"14.00\">grad 1.5186</text>\n</g>\n<!-- 139387797974720&#45;&gt;139387797969920+ -->\n<g id=\"edge24\" class=\"edge\">\n<title>139387797974720&#45;&gt;139387797969920+</title>\n<path fill=\"none\" stroke=\"black\" d=\"M2249.82,-83.13C2260.07,-81.27 2270.01,-79.47 2278.88,-77.87\"/>\n<polygon fill=\"black\" stroke=\"black\" points=\"2279.54,-81.3 2288.75,-76.08 2278.29,-74.42 2279.54,-81.3\"/>\n</g>\n<!-- 139387797974720&#45;&gt;139387797978656+ -->\n<g id=\"edge25\" class=\"edge\">\n<title>139387797974720&#45;&gt;139387797978656+</title>\n<path fill=\"none\" stroke=\"black\" d=\"M2249.82,-115.28C2260.07,-117.08 2270.01,-118.81 2278.88,-120.36\"/>\n<polygon fill=\"black\" stroke=\"black\" points=\"2278.3,-123.81 2288.75,-122.09 2279.5,-116.92 2278.3,-123.81\"/>\n</g>\n<!-- 139387797974720exp&#45;&gt;139387797974720 -->\n<g id=\"edge11\" class=\"edge\">\n<title>139387797974720exp&#45;&gt;139387797974720</title>\n<path fill=\"none\" stroke=\"black\" d=\"M2029.21,-99.5C2037.34,-99.5 2046.85,-99.5 2056.94,-99.5\"/>\n<polygon fill=\"black\" stroke=\"black\" points=\"2057.19,-103 2067.19,-99.5 2057.19,-96 2057.19,-103\"/>\n</g>\n<!-- 139387797878480 -->\n<g id=\"node32\" class=\"node\">\n<title>139387797878480</title>\n<polygon fill=\"none\" stroke=\"black\" points=\"681,-55.5 681,-91.5 895,-91.5 895,-55.5 681,-55.5\"/>\n<text text-anchor=\"middle\" x=\"704.5\" y=\"-69.8\" font-family=\"Times,serif\" font-size=\"14.00\">x3w3</text>\n<polyline fill=\"none\" stroke=\"black\" points=\"728,-55.5 728,-91.5 \"/>\n<text text-anchor=\"middle\" x=\"770.5\" y=\"-69.8\" font-family=\"Times,serif\" font-size=\"14.00\">data &#45;1.5000</text>\n<polyline fill=\"none\" stroke=\"black\" points=\"813,-55.5 813,-91.5 \"/>\n<text text-anchor=\"middle\" x=\"854\" y=\"-69.8\" font-family=\"Times,serif\" font-size=\"14.00\">grad 0.4483</text>\n</g>\n<!-- 139387797878480&#45;&gt;139387797970112+ -->\n<g id=\"edge21\" class=\"edge\">\n<title>139387797878480&#45;&gt;139387797970112+</title>\n<path fill=\"none\" stroke=\"black\" d=\"M895.19,-89.17C909.94,-91.34 924.18,-93.44 936.3,-95.23\"/>\n<polygon fill=\"black\" stroke=\"black\" points=\"935.96,-98.72 946.36,-96.72 936.98,-91.8 935.96,-98.72\"/>\n</g>\n<!-- 139387797878480*&#45;&gt;139387797878480 -->\n<g id=\"edge12\" class=\"edge\">\n<title>139387797878480*&#45;&gt;139387797878480</title>\n<path fill=\"none\" stroke=\"black\" d=\"M630.22,-73.5C641.57,-73.5 655.72,-73.5 670.83,-73.5\"/>\n<polygon fill=\"black\" stroke=\"black\" points=\"670.89,-77 680.89,-73.5 670.89,-70 670.89,-77\"/>\n</g>\n<!-- 139387797870512 -->\n<g id=\"node34\" class=\"node\">\n<title>139387797870512</title>\n<polygon fill=\"none\" stroke=\"black\" points=\"334.5,-0.5 334.5,-36.5 531.5,-36.5 531.5,-0.5 334.5,-0.5\"/>\n<text text-anchor=\"middle\" x=\"349.5\" y=\"-14.8\" font-family=\"Times,serif\" font-size=\"14.00\">x3</text>\n<polyline fill=\"none\" stroke=\"black\" points=\"364.5,-0.5 364.5,-36.5 \"/>\n<text text-anchor=\"middle\" x=\"407\" y=\"-14.8\" font-family=\"Times,serif\" font-size=\"14.00\">data &#45;3.0000</text>\n<polyline fill=\"none\" stroke=\"black\" points=\"449.5,-0.5 449.5,-36.5 \"/>\n<text text-anchor=\"middle\" x=\"490.5\" y=\"-14.8\" font-family=\"Times,serif\" font-size=\"14.00\">grad 0.2242</text>\n</g>\n<!-- 139387797870512&#45;&gt;139387797878480* -->\n<g id=\"edge33\" class=\"edge\">\n<title>139387797870512&#45;&gt;139387797878480*</title>\n<path fill=\"none\" stroke=\"black\" d=\"M511.47,-36.55C521.15,-39.3 530.86,-42.3 540,-45.5 550.56,-49.2 561.79,-53.99 571.76,-58.57\"/>\n<polygon fill=\"black\" stroke=\"black\" points=\"570.32,-61.76 580.86,-62.84 573.29,-55.42 570.32,-61.76\"/>\n</g>\n</g>\n</svg>\n",
            "text/plain": [
              "<graphviz.graphs.Digraph at 0x7ec5c02d8370>"
            ]
          },
          "metadata": {},
          "execution_count": 7
        }
      ]
    },
    {
      "cell_type": "markdown",
      "source": [
        "# Same thing using Pytorch"
      ],
      "metadata": {
        "id": "5Oxn-SCO5F0O"
      }
    },
    {
      "cell_type": "code",
      "source": [
        "import torch"
      ],
      "metadata": {
        "id": "2tfFCoe45Pbn"
      },
      "execution_count": 8,
      "outputs": []
    },
    {
      "cell_type": "code",
      "source": [
        "x1 = torch.Tensor([2.0]).double() ; x1.requires_grad = True\n",
        "x2 = torch.Tensor([0.0]).double() ; x2.requires_grad = True\n",
        "x3 = torch.Tensor([-3.0]).double() ; x3.requires_grad = True\n",
        "w1 = torch.Tensor([-3.0]).double() ; w1.requires_grad = True\n",
        "w2 = torch.Tensor([1.0]).double() ; w2.requires_grad = True\n",
        "w3 = torch.Tensor([0.5]).double() ; w3.requires_grad = True\n",
        "b = torch.Tensor([6.5434543234323432343]).double() ; b.requires_grad = True\n",
        "n = x1*w1 + x2*w2 + x3*w3\n",
        "o  = torch.tanh(n + b)\n",
        "print(o.data.item())\n",
        "o.backward()\n"
      ],
      "metadata": {
        "colab": {
          "base_uri": "https://localhost:8080/"
        },
        "id": "cn4Nml265RQG",
        "outputId": "d9fb9fbf-2118-41fa-a9a0-9837a8a56cdb"
      },
      "execution_count": 9,
      "outputs": [
        {
          "output_type": "stream",
          "name": "stdout",
          "text": [
            "-0.7427321629408801\n"
          ]
        }
      ]
    },
    {
      "cell_type": "markdown",
      "source": [
        "#building out a neural net library (multi-layer perceptron) in micrograd\n",
        "\n"
      ],
      "metadata": {
        "id": "EPVbalXZ6ddM"
      }
    },
    {
      "cell_type": "code",
      "source": [
        "class Neuron:\n",
        "  def __init__(self , nin):\n",
        "    self.wt = [Value(np.random.uniform(-1 , 1)) for _ in range(nin)]\n",
        "    self.b = Value(np.random.uniform(-1 , 1))\n",
        "\n",
        "  def __call__(self , x):\n",
        "    act = sum((wi*xi for wi , xi in zip(self.wt , x)) , self.b)\n",
        "    out = act.tanh()\n",
        "    return out\n",
        "\n",
        "  def parameters(self):\n",
        "    return self.wt + [self.b]\n",
        "\n",
        "class Layers:\n",
        "  def __init__(self , nin , nout):\n",
        "    self.neurons = [Neuron(nin) for _ in range(nout)]\n",
        "\n",
        "  def __call__(self , x):\n",
        "    outs = [n(x) for n in self.neurons]\n",
        "    return outs if len(outs) == 1 else outs\n",
        "\n",
        "  def parameters(self):\n",
        "    return [p for neuron in self.neurons for p in neuron.parameters()]\n",
        "\n",
        "class MLP:\n",
        "  def __init__(self , nin , nouts):\n",
        "    sz = [nin] + nouts\n",
        "    self.layers  = [Layers(sz[i] , sz[i+1]) for i in range(len(nouts))]\n",
        "  def __call__(self , x):\n",
        "    for layers in self.layers:\n",
        "      x = layers(x)\n",
        "    return x\n",
        "\n",
        "  def parameters(self):\n",
        "    return [p for layers in self.layers for p in layers.parameters()]\n"
      ],
      "metadata": {
        "id": "y_q1DOJO6m3i"
      },
      "execution_count": 10,
      "outputs": []
    },
    {
      "cell_type": "code",
      "source": [
        "x = [2.0 , 3.0]\n",
        "n = MLP(3 , [4 , 4, 1])\n",
        "n(x)"
      ],
      "metadata": {
        "colab": {
          "base_uri": "https://localhost:8080/"
        },
        "id": "-U17kqJbY-v1",
        "outputId": "90acedba-5d57-430c-d13b-e70597e3c6fe"
      },
      "execution_count": 11,
      "outputs": [
        {
          "output_type": "execute_result",
          "data": {
            "text/plain": [
              "[Value(data = 0.9644656420698684)]"
            ]
          },
          "metadata": {},
          "execution_count": 11
        }
      ]
    },
    {
      "cell_type": "markdown",
      "source": [
        "#•doing gradient descent optimization manually, training the network\n",
        "\n"
      ],
      "metadata": {
        "id": "JJ1_ZfI1Z2cu"
      }
    },
    {
      "cell_type": "code",
      "source": [
        "xs = [\n",
        "      [2.0 , 3.0 , -1.0],\n",
        "      [3.0 , -1.0 , 0.5],\n",
        "      [0.5 , 1.0 , 1.0],\n",
        "      [1.0 , 1.0 , -1.0],\n",
        "  ]\n",
        "ys = [1.0 , -1.0 , -1.0 , 1.0]"
      ],
      "metadata": {
        "id": "kAcwS5E-e46t"
      },
      "execution_count": 12,
      "outputs": []
    },
    {
      "cell_type": "code",
      "source": [
        "for k in range(10):\n",
        "  # loss = Value(0.0)  # Initialize loss as a Value object\n",
        "  ypred = [n(x) for x in xs]\n",
        "  # Extract the Value object from the list\n",
        "  loss = sum(((yout[0] - ygt)**2 for ygt , yout in zip(ys , ypred)), Value(0.0))\n",
        "  # loss = sum((yout - ygt)**2 for ygt, yout in zip(ys, ypred))\n",
        "  for p in n.parameters():\n",
        "    p.grad = 0.0\n",
        "  loss.backward()\n",
        "  for p in n.parameters():\n",
        "    p.data += -0.05*p.grad\n",
        "  print(k , loss.data)"
      ],
      "metadata": {
        "colab": {
          "base_uri": "https://localhost:8080/"
        },
        "id": "GDcs6HUIbxAg",
        "outputId": "8f0af023-4e70-4b56-ec92-1c9177fc92f7"
      },
      "execution_count": 13,
      "outputs": [
        {
          "output_type": "stream",
          "name": "stdout",
          "text": [
            "0 4.922572867648905\n",
            "1 3.0352345139898915\n",
            "2 1.2755683040309975\n",
            "3 0.6399505179197325\n",
            "4 0.3193102319673889\n",
            "5 0.21040949392466518\n",
            "6 0.16097430171119592\n",
            "7 0.12912440544124582\n",
            "8 0.10714464711240654\n",
            "9 0.09118189836682114\n"
          ]
        }
      ]
    },
    {
      "cell_type": "code",
      "source": [],
      "metadata": {
        "id": "SdgPrGVle9Ke"
      },
      "execution_count": 13,
      "outputs": []
    }
  ]
}